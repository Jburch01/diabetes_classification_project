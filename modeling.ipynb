{
 "cells": [
  {
   "cell_type": "markdown",
   "id": "e62184fb-b39f-4591-aca3-f916c4d9352c",
   "metadata": {},
   "source": [
    "### imports"
   ]
  },
  {
   "cell_type": "code",
   "execution_count": 105,
   "id": "b455ba8b-ae8e-41fd-8882-8fcf02c7f021",
   "metadata": {},
   "outputs": [],
   "source": [
    "import wrangle as w\n",
    "\n",
    "import pandas as pd\n",
    "import numpy as np\n",
    "\n",
    "# Visualize your success!\n",
    "import seaborn as sns\n",
    "import matplotlib.pyplot as plt\n",
    "\n",
    "#Stats\n",
    "from scipy import stats\n",
    "\n",
    "# sklearn for modeling:\n",
    "from sklearn.tree import DecisionTreeClassifier,\\\n",
    "export_text, \\\n",
    "plot_tree\n",
    "from sklearn.metrics import accuracy_score, \\\n",
    "classification_report, \\\n",
    "confusion_matrix\n",
    "from sklearn.ensemble import RandomForestClassifier\n",
    "from sklearn.linear_model import LogisticRegression\n",
    "from sklearn.neighbors import KNeighborsClassifier\n",
    "from sklearn.naive_bayes import BernoulliNB\n",
    "\n",
    "from sklearn.preprocessing import MinMaxScaler\n"
   ]
  },
  {
   "cell_type": "markdown",
   "id": "0e93553e-691a-47db-973e-c0c1b5cf7131",
   "metadata": {},
   "source": [
    "### Get the data"
   ]
  },
  {
   "cell_type": "code",
   "execution_count": 2,
   "id": "006a9c4f-15d2-4eff-9b2d-e56c71bb201e",
   "metadata": {},
   "outputs": [],
   "source": [
    "df = w.get_data()"
   ]
  },
  {
   "cell_type": "code",
   "execution_count": 3,
   "id": "062f0d29-d40d-450c-a238-05c7071540d1",
   "metadata": {},
   "outputs": [
    {
     "data": {
      "text/plain": [
       "gender                 0\n",
       "age                    0\n",
       "hypertension           0\n",
       "heart_disease          0\n",
       "smoking_history        0\n",
       "bmi                    0\n",
       "HbA1c_level            0\n",
       "blood_glucose_level    0\n",
       "diabetic               0\n",
       "age_bin                0\n",
       "bmi_class              0\n",
       "dtype: int64"
      ]
     },
     "execution_count": 3,
     "metadata": {},
     "output_type": "execute_result"
    }
   ],
   "source": [
    "df.isna().sum()"
   ]
  },
  {
   "cell_type": "code",
   "execution_count": 4,
   "id": "2eca2d80-29a4-4978-aa3c-f8d7280cf9aa",
   "metadata": {},
   "outputs": [
    {
     "data": {
      "text/html": [
       "<div>\n",
       "<style scoped>\n",
       "    .dataframe tbody tr th:only-of-type {\n",
       "        vertical-align: middle;\n",
       "    }\n",
       "\n",
       "    .dataframe tbody tr th {\n",
       "        vertical-align: top;\n",
       "    }\n",
       "\n",
       "    .dataframe thead th {\n",
       "        text-align: right;\n",
       "    }\n",
       "</style>\n",
       "<table border=\"1\" class=\"dataframe\">\n",
       "  <thead>\n",
       "    <tr style=\"text-align: right;\">\n",
       "      <th></th>\n",
       "      <th>gender</th>\n",
       "      <th>age</th>\n",
       "      <th>hypertension</th>\n",
       "      <th>heart_disease</th>\n",
       "      <th>smoking_history</th>\n",
       "      <th>bmi</th>\n",
       "      <th>HbA1c_level</th>\n",
       "      <th>blood_glucose_level</th>\n",
       "      <th>diabetic</th>\n",
       "      <th>age_bin</th>\n",
       "      <th>bmi_class</th>\n",
       "    </tr>\n",
       "  </thead>\n",
       "  <tbody>\n",
       "    <tr>\n",
       "      <th>0</th>\n",
       "      <td>Female</td>\n",
       "      <td>80</td>\n",
       "      <td>0</td>\n",
       "      <td>1</td>\n",
       "      <td>never</td>\n",
       "      <td>25.19</td>\n",
       "      <td>6.6</td>\n",
       "      <td>140</td>\n",
       "      <td>0</td>\n",
       "      <td>7</td>\n",
       "      <td>3</td>\n",
       "    </tr>\n",
       "    <tr>\n",
       "      <th>1</th>\n",
       "      <td>Female</td>\n",
       "      <td>54</td>\n",
       "      <td>0</td>\n",
       "      <td>0</td>\n",
       "      <td>No Info</td>\n",
       "      <td>27.32</td>\n",
       "      <td>6.6</td>\n",
       "      <td>80</td>\n",
       "      <td>0</td>\n",
       "      <td>5</td>\n",
       "      <td>3</td>\n",
       "    </tr>\n",
       "    <tr>\n",
       "      <th>2</th>\n",
       "      <td>Male</td>\n",
       "      <td>28</td>\n",
       "      <td>0</td>\n",
       "      <td>0</td>\n",
       "      <td>never</td>\n",
       "      <td>27.32</td>\n",
       "      <td>5.7</td>\n",
       "      <td>158</td>\n",
       "      <td>0</td>\n",
       "      <td>2</td>\n",
       "      <td>3</td>\n",
       "    </tr>\n",
       "    <tr>\n",
       "      <th>3</th>\n",
       "      <td>Female</td>\n",
       "      <td>36</td>\n",
       "      <td>0</td>\n",
       "      <td>0</td>\n",
       "      <td>current</td>\n",
       "      <td>23.45</td>\n",
       "      <td>5.0</td>\n",
       "      <td>155</td>\n",
       "      <td>0</td>\n",
       "      <td>3</td>\n",
       "      <td>2</td>\n",
       "    </tr>\n",
       "    <tr>\n",
       "      <th>4</th>\n",
       "      <td>Male</td>\n",
       "      <td>76</td>\n",
       "      <td>1</td>\n",
       "      <td>1</td>\n",
       "      <td>current</td>\n",
       "      <td>20.14</td>\n",
       "      <td>4.8</td>\n",
       "      <td>155</td>\n",
       "      <td>0</td>\n",
       "      <td>7</td>\n",
       "      <td>2</td>\n",
       "    </tr>\n",
       "  </tbody>\n",
       "</table>\n",
       "</div>"
      ],
      "text/plain": [
       "   gender  age  hypertension  heart_disease smoking_history    bmi  \\\n",
       "0  Female   80             0              1           never  25.19   \n",
       "1  Female   54             0              0         No Info  27.32   \n",
       "2    Male   28             0              0           never  27.32   \n",
       "3  Female   36             0              0         current  23.45   \n",
       "4    Male   76             1              1         current  20.14   \n",
       "\n",
       "   HbA1c_level  blood_glucose_level  diabetic age_bin bmi_class  \n",
       "0          6.6                  140         0       7         3  \n",
       "1          6.6                   80         0       5         3  \n",
       "2          5.7                  158         0       2         3  \n",
       "3          5.0                  155         0       3         2  \n",
       "4          4.8                  155         0       7         2  "
      ]
     },
     "execution_count": 4,
     "metadata": {},
     "output_type": "execute_result"
    }
   ],
   "source": [
    "df.head()"
   ]
  },
  {
   "cell_type": "code",
   "execution_count": null,
   "id": "e5c8e363-e67a-4fbb-8564-3c8b62f8d44c",
   "metadata": {},
   "outputs": [],
   "source": []
  },
  {
   "cell_type": "markdown",
   "id": "e3988c5f-7d82-4215-bc96-007a307baac5",
   "metadata": {},
   "source": [
    "### train, val, test split"
   ]
  },
  {
   "cell_type": "code",
   "execution_count": 5,
   "id": "3c0bea3d-9b72-4fa4-b5df-2c5d0f9faec6",
   "metadata": {},
   "outputs": [],
   "source": [
    "train, val, test = w.train_validate_test(df, 'diabetic')"
   ]
  },
  {
   "cell_type": "code",
   "execution_count": 6,
   "id": "fbaaa049-26ea-429b-ad4d-87e394c9ae0e",
   "metadata": {},
   "outputs": [
    {
     "data": {
      "text/plain": [
       "((53321, 11), (22853, 11), (19044, 11))"
      ]
     },
     "execution_count": 6,
     "metadata": {},
     "output_type": "execute_result"
    }
   ],
   "source": [
    "train.shape, val.shape, test.shape"
   ]
  },
  {
   "cell_type": "markdown",
   "id": "c1b5fa33-8280-43d6-be98-20bfbf8625f9",
   "metadata": {},
   "source": [
    "# Modeling "
   ]
  },
  {
   "cell_type": "markdown",
   "id": "157a7965-ac4b-4bb0-a019-6daee6f25c28",
   "metadata": {},
   "source": [
    "## scaling"
   ]
  },
  {
   "cell_type": "code",
   "execution_count": 136,
   "id": "e155a327-96aa-4bf3-8910-e06ff7091660",
   "metadata": {},
   "outputs": [],
   "source": [
    "def scale_data(train, val, test):\n",
    "    x_cols = ['HbA1c_level']\n",
    "    split = [train, val, test]\n",
    "    scale_list= []\n",
    "    scaler = MinMaxScaler()\n",
    "    scaler.fit(train[x_cols])\n",
    "    for cut in split:\n",
    "        cut_copy = cut.copy()\n",
    "        cut_copy[x_cols] = scaler.transform(cut_copy[x_cols])\n",
    "        scale_list.append(cut_copy)\n",
    "\n",
    "    \n",
    "    return scale_list[0], scale_list[1], scale_list[2] \n"
   ]
  },
  {
   "cell_type": "code",
   "execution_count": 137,
   "id": "bbc674ce-c3bb-46a8-9d6f-51ec8c98db3d",
   "metadata": {
    "tags": []
   },
   "outputs": [],
   "source": [
    "train_scaled, val_scaled, test_scaled = scale_data(train, val, test)"
   ]
  },
  {
   "cell_type": "code",
   "execution_count": 138,
   "id": "67f078e6-1ed2-4bca-9c6a-3756e3cad8ce",
   "metadata": {},
   "outputs": [
    {
     "data": {
      "text/html": [
       "<div>\n",
       "<style scoped>\n",
       "    .dataframe tbody tr th:only-of-type {\n",
       "        vertical-align: middle;\n",
       "    }\n",
       "\n",
       "    .dataframe tbody tr th {\n",
       "        vertical-align: top;\n",
       "    }\n",
       "\n",
       "    .dataframe thead th {\n",
       "        text-align: right;\n",
       "    }\n",
       "</style>\n",
       "<table border=\"1\" class=\"dataframe\">\n",
       "  <thead>\n",
       "    <tr style=\"text-align: right;\">\n",
       "      <th></th>\n",
       "      <th>gender</th>\n",
       "      <th>age</th>\n",
       "      <th>hypertension</th>\n",
       "      <th>heart_disease</th>\n",
       "      <th>smoking_history</th>\n",
       "      <th>bmi</th>\n",
       "      <th>HbA1c_level</th>\n",
       "      <th>blood_glucose_level</th>\n",
       "      <th>diabetic</th>\n",
       "      <th>age_bin</th>\n",
       "      <th>bmi_class</th>\n",
       "    </tr>\n",
       "  </thead>\n",
       "  <tbody>\n",
       "    <tr>\n",
       "      <th>7299</th>\n",
       "      <td>Female</td>\n",
       "      <td>77</td>\n",
       "      <td>0</td>\n",
       "      <td>0</td>\n",
       "      <td>never</td>\n",
       "      <td>25.60</td>\n",
       "      <td>0.563636</td>\n",
       "      <td>90</td>\n",
       "      <td>0</td>\n",
       "      <td>7</td>\n",
       "      <td>3</td>\n",
       "    </tr>\n",
       "    <tr>\n",
       "      <th>76197</th>\n",
       "      <td>Female</td>\n",
       "      <td>15</td>\n",
       "      <td>0</td>\n",
       "      <td>0</td>\n",
       "      <td>No Info</td>\n",
       "      <td>20.22</td>\n",
       "      <td>0.490909</td>\n",
       "      <td>140</td>\n",
       "      <td>0</td>\n",
       "      <td>1</td>\n",
       "      <td>2</td>\n",
       "    </tr>\n",
       "    <tr>\n",
       "      <th>19159</th>\n",
       "      <td>Male</td>\n",
       "      <td>76</td>\n",
       "      <td>1</td>\n",
       "      <td>0</td>\n",
       "      <td>No Info</td>\n",
       "      <td>27.32</td>\n",
       "      <td>0.400000</td>\n",
       "      <td>90</td>\n",
       "      <td>0</td>\n",
       "      <td>7</td>\n",
       "      <td>3</td>\n",
       "    </tr>\n",
       "    <tr>\n",
       "      <th>68892</th>\n",
       "      <td>Female</td>\n",
       "      <td>16</td>\n",
       "      <td>0</td>\n",
       "      <td>0</td>\n",
       "      <td>never</td>\n",
       "      <td>29.07</td>\n",
       "      <td>0.181818</td>\n",
       "      <td>155</td>\n",
       "      <td>0</td>\n",
       "      <td>1</td>\n",
       "      <td>3</td>\n",
       "    </tr>\n",
       "    <tr>\n",
       "      <th>49924</th>\n",
       "      <td>Female</td>\n",
       "      <td>40</td>\n",
       "      <td>0</td>\n",
       "      <td>0</td>\n",
       "      <td>not current</td>\n",
       "      <td>31.79</td>\n",
       "      <td>0.454545</td>\n",
       "      <td>100</td>\n",
       "      <td>0</td>\n",
       "      <td>4</td>\n",
       "      <td>4</td>\n",
       "    </tr>\n",
       "    <tr>\n",
       "      <th>...</th>\n",
       "      <td>...</td>\n",
       "      <td>...</td>\n",
       "      <td>...</td>\n",
       "      <td>...</td>\n",
       "      <td>...</td>\n",
       "      <td>...</td>\n",
       "      <td>...</td>\n",
       "      <td>...</td>\n",
       "      <td>...</td>\n",
       "      <td>...</td>\n",
       "      <td>...</td>\n",
       "    </tr>\n",
       "    <tr>\n",
       "      <th>3655</th>\n",
       "      <td>Female</td>\n",
       "      <td>51</td>\n",
       "      <td>0</td>\n",
       "      <td>0</td>\n",
       "      <td>never</td>\n",
       "      <td>23.98</td>\n",
       "      <td>0.418182</td>\n",
       "      <td>130</td>\n",
       "      <td>0</td>\n",
       "      <td>5</td>\n",
       "      <td>2</td>\n",
       "    </tr>\n",
       "    <tr>\n",
       "      <th>55255</th>\n",
       "      <td>Male</td>\n",
       "      <td>62</td>\n",
       "      <td>1</td>\n",
       "      <td>0</td>\n",
       "      <td>former</td>\n",
       "      <td>27.32</td>\n",
       "      <td>0.418182</td>\n",
       "      <td>200</td>\n",
       "      <td>1</td>\n",
       "      <td>6</td>\n",
       "      <td>3</td>\n",
       "    </tr>\n",
       "    <tr>\n",
       "      <th>91372</th>\n",
       "      <td>Male</td>\n",
       "      <td>26</td>\n",
       "      <td>0</td>\n",
       "      <td>0</td>\n",
       "      <td>never</td>\n",
       "      <td>34.44</td>\n",
       "      <td>0.000000</td>\n",
       "      <td>159</td>\n",
       "      <td>0</td>\n",
       "      <td>2</td>\n",
       "      <td>4</td>\n",
       "    </tr>\n",
       "    <tr>\n",
       "      <th>78876</th>\n",
       "      <td>Female</td>\n",
       "      <td>26</td>\n",
       "      <td>0</td>\n",
       "      <td>0</td>\n",
       "      <td>former</td>\n",
       "      <td>26.50</td>\n",
       "      <td>0.545455</td>\n",
       "      <td>158</td>\n",
       "      <td>0</td>\n",
       "      <td>2</td>\n",
       "      <td>3</td>\n",
       "    </tr>\n",
       "    <tr>\n",
       "      <th>35982</th>\n",
       "      <td>Male</td>\n",
       "      <td>80</td>\n",
       "      <td>0</td>\n",
       "      <td>0</td>\n",
       "      <td>ever</td>\n",
       "      <td>23.46</td>\n",
       "      <td>0.400000</td>\n",
       "      <td>140</td>\n",
       "      <td>0</td>\n",
       "      <td>7</td>\n",
       "      <td>2</td>\n",
       "    </tr>\n",
       "  </tbody>\n",
       "</table>\n",
       "<p>53321 rows × 11 columns</p>\n",
       "</div>"
      ],
      "text/plain": [
       "       gender  age  hypertension  heart_disease smoking_history    bmi  \\\n",
       "7299   Female   77             0              0           never  25.60   \n",
       "76197  Female   15             0              0         No Info  20.22   \n",
       "19159    Male   76             1              0         No Info  27.32   \n",
       "68892  Female   16             0              0           never  29.07   \n",
       "49924  Female   40             0              0     not current  31.79   \n",
       "...       ...  ...           ...            ...             ...    ...   \n",
       "3655   Female   51             0              0           never  23.98   \n",
       "55255    Male   62             1              0          former  27.32   \n",
       "91372    Male   26             0              0           never  34.44   \n",
       "78876  Female   26             0              0          former  26.50   \n",
       "35982    Male   80             0              0            ever  23.46   \n",
       "\n",
       "       HbA1c_level  blood_glucose_level  diabetic age_bin bmi_class  \n",
       "7299      0.563636                   90         0       7         3  \n",
       "76197     0.490909                  140         0       1         2  \n",
       "19159     0.400000                   90         0       7         3  \n",
       "68892     0.181818                  155         0       1         3  \n",
       "49924     0.454545                  100         0       4         4  \n",
       "...            ...                  ...       ...     ...       ...  \n",
       "3655      0.418182                  130         0       5         2  \n",
       "55255     0.418182                  200         1       6         3  \n",
       "91372     0.000000                  159         0       2         4  \n",
       "78876     0.545455                  158         0       2         3  \n",
       "35982     0.400000                  140         0       7         2  \n",
       "\n",
       "[53321 rows x 11 columns]"
      ]
     },
     "execution_count": 138,
     "metadata": {},
     "output_type": "execute_result"
    }
   ],
   "source": [
    "train_scaled"
   ]
  },
  {
   "cell_type": "code",
   "execution_count": 139,
   "id": "22148919-5b3c-41d1-8997-a1590df746f2",
   "metadata": {},
   "outputs": [],
   "source": [
    "x_cols = ['HbA1c_level', 'age_bin', 'bmi_class']\n",
    "\n",
    "y_cols = 'diabetic'\n",
    "\n",
    "\n",
    "\n",
    "x_train = train_scaled[x_cols]\n",
    "y_train = train[y_cols]\n",
    "\n",
    "x_val = val_scaled[x_cols]\n",
    "y_val = val[y_cols]\n",
    "\n",
    "x_test = test_scaled[x_cols]\n",
    "y_test = test[y_cols]"
   ]
  },
  {
   "cell_type": "code",
   "execution_count": 140,
   "id": "b5967cc1-8177-47e5-b015-70fb0689c5af",
   "metadata": {},
   "outputs": [
    {
     "data": {
      "text/html": [
       "<div>\n",
       "<style scoped>\n",
       "    .dataframe tbody tr th:only-of-type {\n",
       "        vertical-align: middle;\n",
       "    }\n",
       "\n",
       "    .dataframe tbody tr th {\n",
       "        vertical-align: top;\n",
       "    }\n",
       "\n",
       "    .dataframe thead th {\n",
       "        text-align: right;\n",
       "    }\n",
       "</style>\n",
       "<table border=\"1\" class=\"dataframe\">\n",
       "  <thead>\n",
       "    <tr style=\"text-align: right;\">\n",
       "      <th></th>\n",
       "      <th>HbA1c_level</th>\n",
       "      <th>age_bin</th>\n",
       "      <th>bmi_class</th>\n",
       "    </tr>\n",
       "  </thead>\n",
       "  <tbody>\n",
       "    <tr>\n",
       "      <th>7299</th>\n",
       "      <td>0.563636</td>\n",
       "      <td>7</td>\n",
       "      <td>3</td>\n",
       "    </tr>\n",
       "    <tr>\n",
       "      <th>76197</th>\n",
       "      <td>0.490909</td>\n",
       "      <td>1</td>\n",
       "      <td>2</td>\n",
       "    </tr>\n",
       "    <tr>\n",
       "      <th>19159</th>\n",
       "      <td>0.400000</td>\n",
       "      <td>7</td>\n",
       "      <td>3</td>\n",
       "    </tr>\n",
       "    <tr>\n",
       "      <th>68892</th>\n",
       "      <td>0.181818</td>\n",
       "      <td>1</td>\n",
       "      <td>3</td>\n",
       "    </tr>\n",
       "    <tr>\n",
       "      <th>49924</th>\n",
       "      <td>0.454545</td>\n",
       "      <td>4</td>\n",
       "      <td>4</td>\n",
       "    </tr>\n",
       "    <tr>\n",
       "      <th>...</th>\n",
       "      <td>...</td>\n",
       "      <td>...</td>\n",
       "      <td>...</td>\n",
       "    </tr>\n",
       "    <tr>\n",
       "      <th>3655</th>\n",
       "      <td>0.418182</td>\n",
       "      <td>5</td>\n",
       "      <td>2</td>\n",
       "    </tr>\n",
       "    <tr>\n",
       "      <th>55255</th>\n",
       "      <td>0.418182</td>\n",
       "      <td>6</td>\n",
       "      <td>3</td>\n",
       "    </tr>\n",
       "    <tr>\n",
       "      <th>91372</th>\n",
       "      <td>0.000000</td>\n",
       "      <td>2</td>\n",
       "      <td>4</td>\n",
       "    </tr>\n",
       "    <tr>\n",
       "      <th>78876</th>\n",
       "      <td>0.545455</td>\n",
       "      <td>2</td>\n",
       "      <td>3</td>\n",
       "    </tr>\n",
       "    <tr>\n",
       "      <th>35982</th>\n",
       "      <td>0.400000</td>\n",
       "      <td>7</td>\n",
       "      <td>2</td>\n",
       "    </tr>\n",
       "  </tbody>\n",
       "</table>\n",
       "<p>53321 rows × 3 columns</p>\n",
       "</div>"
      ],
      "text/plain": [
       "       HbA1c_level age_bin bmi_class\n",
       "7299      0.563636       7         3\n",
       "76197     0.490909       1         2\n",
       "19159     0.400000       7         3\n",
       "68892     0.181818       1         3\n",
       "49924     0.454545       4         4\n",
       "...            ...     ...       ...\n",
       "3655      0.418182       5         2\n",
       "55255     0.418182       6         3\n",
       "91372     0.000000       2         4\n",
       "78876     0.545455       2         3\n",
       "35982     0.400000       7         2\n",
       "\n",
       "[53321 rows x 3 columns]"
      ]
     },
     "execution_count": 140,
     "metadata": {},
     "output_type": "execute_result"
    }
   ],
   "source": [
    "x_train"
   ]
  },
  {
   "cell_type": "markdown",
   "id": "9e71d15d-07f4-4b4a-8731-c12860bdb078",
   "metadata": {},
   "source": [
    "## Baseline"
   ]
  },
  {
   "cell_type": "code",
   "execution_count": 8,
   "id": "8efc1941-f117-42f8-8571-cd477def092c",
   "metadata": {},
   "outputs": [
    {
     "data": {
      "text/plain": [
       "0    0\n",
       "Name: diabetic, dtype: int64"
      ]
     },
     "execution_count": 8,
     "metadata": {},
     "output_type": "execute_result"
    }
   ],
   "source": [
    "train.diabetic.mode()"
   ]
  },
  {
   "cell_type": "code",
   "execution_count": 9,
   "id": "587325ec-3f64-4800-b595-5c1f0c99bf98",
   "metadata": {},
   "outputs": [],
   "source": [
    "baseline_accuracy = (train.diabetic == 0).mean()"
   ]
  },
  {
   "cell_type": "code",
   "execution_count": 10,
   "id": "2d6074e3-af65-4dab-9c59-28e0493476e1",
   "metadata": {},
   "outputs": [
    {
     "data": {
      "text/plain": [
       "0.910916899533017"
      ]
     },
     "execution_count": 10,
     "metadata": {},
     "output_type": "execute_result"
    }
   ],
   "source": [
    "baseline_accuracy"
   ]
  },
  {
   "cell_type": "markdown",
   "id": "32e5d1ed-22c5-4be9-a891-14ed0fa077ac",
   "metadata": {},
   "source": [
    "## Decision Tree"
   ]
  },
  {
   "cell_type": "code",
   "execution_count": 117,
   "id": "43f15c06-e203-4100-b2f1-0ba1c8374ca0",
   "metadata": {},
   "outputs": [],
   "source": [
    "def get_decisionTree_model(depth):\n",
    "    \"\"\"\n",
    "    Returns a decision treen model with a max depth arg\n",
    "    prints out the Accuracy of train and validate and the \n",
    "    classification report\n",
    "    \"\"\"\n",
    "    clf = DecisionTreeClassifier(max_depth=depth, random_state=706)\n",
    "    #class_weight='balanced'\n",
    "    # fit the thing\n",
    "    clf.fit(x_train, y_train)\n",
    "\n",
    "    model_proba = clf.predict_proba(x_train)\n",
    "    model_preds = clf.predict(x_train)\n",
    "\n",
    "    model_score = clf.score(x_train, y_train)\n",
    "\n",
    "    #classification report:\n",
    "    print(\n",
    "        classification_report(y_train,\n",
    "                          model_preds))\n",
    "    print('Accuracy of Random Tree classifier on training set: {:.2f}'\n",
    "     .format(clf.score(x_train, y_train)))\n",
    "    print('Accuracy of Random Tree classifier on validation set: {:.2f}'\n",
    "     .format(clf.score(x_val, y_val)))\n",
    "    return clf, model_preds"
   ]
  },
  {
   "cell_type": "code",
   "execution_count": 141,
   "id": "570011c6-72aa-4c10-9297-c8ab37aea6d3",
   "metadata": {},
   "outputs": [
    {
     "name": "stdout",
     "output_type": "stream",
     "text": [
      "              precision    recall  f1-score   support\n",
      "\n",
      "           0       0.95      1.00      0.97     48571\n",
      "           1       0.98      0.47      0.64      4750\n",
      "\n",
      "    accuracy                           0.95     53321\n",
      "   macro avg       0.97      0.73      0.81     53321\n",
      "weighted avg       0.95      0.95      0.94     53321\n",
      "\n",
      "Accuracy of Random Tree classifier on training set: 0.95\n",
      "Accuracy of Random Tree classifier on validation set: 0.95\n"
     ]
    }
   ],
   "source": [
    "clf, model_preds = get_decisionTree_model(9)"
   ]
  },
  {
   "cell_type": "code",
   "execution_count": 38,
   "id": "439bed53-fc6e-413d-847e-39cb121ccbfc",
   "metadata": {},
   "outputs": [
    {
     "data": {
      "text/plain": [
       "array([0, 0, 0, ..., 0, 0, 0])"
      ]
     },
     "execution_count": 38,
     "metadata": {},
     "output_type": "execute_result"
    }
   ],
   "source": [
    "model_preds"
   ]
  },
  {
   "cell_type": "code",
   "execution_count": 39,
   "id": "ec738373-5d53-49ee-9fd8-8608d5ec7ae9",
   "metadata": {
    "tags": []
   },
   "outputs": [
    {
     "data": {
      "text/plain": [
       "array([[48535,    36],\n",
       "       [ 2516,  2234]])"
      ]
     },
     "execution_count": 39,
     "metadata": {},
     "output_type": "execute_result"
    }
   ],
   "source": [
    "confusion_matrix(train.diabetic, model_preds, labels=(0, 1))"
   ]
  },
  {
   "cell_type": "markdown",
   "id": "febb8b6a-0566-4fca-8171-9b5ffa30c689",
   "metadata": {},
   "source": [
    "## Random Forrest"
   ]
  },
  {
   "cell_type": "code",
   "execution_count": 119,
   "id": "f8c44464-528c-4d51-b447-e7da4ef85c8f",
   "metadata": {},
   "outputs": [],
   "source": [
    "def get_random_forest():\n",
    "    \"\"\"\n",
    "    Runs through two for loops from range 1 - 5 each time increasing the max depth \n",
    "    and min sample leaf\n",
    "    puts all of the models in a pandas data frame and sorts for the hightes valadation \n",
    "    Prints out the classification report on the best model\n",
    "    \"\"\"\n",
    "    \n",
    "    model_list = []\n",
    "\n",
    "    for j in range (1, 15):\n",
    "        for i in range(2, 15):\n",
    "            rf = RandomForestClassifier(n_estimators=101 ,max_depth=i, min_samples_leaf=j, random_state=706)\n",
    "\n",
    "            rf = rf.fit(x_train, y_train)\n",
    "            train_accuracy = rf.score(x_train, y_train)\n",
    "            validate_accuracy = rf.score(x_val, y_val)\n",
    "            model_preds = rf.predict(x_train)\n",
    "\n",
    "            output = {\n",
    "                \"min_samples_per_leaf\": j,\n",
    "                \"max_depth\": i,\n",
    "                \"train_accuracy\": train_accuracy,\n",
    "                \"validate_accuracy\": validate_accuracy,\n",
    "                'model_preds': model_preds\n",
    "            }\n",
    "            model_list.append(output)\n",
    "            \n",
    "    df = pd.DataFrame(model_list)\n",
    "    df[\"difference\"] = df.train_accuracy - df.validate_accuracy\n",
    "    df[\"baseline_accuracy\"] = baseline_accuracy\n",
    "    # df[df.validate_accuracy > df.baseline_accuracy + .05].sort_values(by=['difference'], ascending=True).head(15)\n",
    "    df.sort_values(by=['validate_accuracy'], ascending=False).head(1)\n",
    "    \n",
    "    #classification report:\n",
    "    print(classification_report(y_train, df['model_preds'][1]))\n",
    "    return df.sort_values(by=['validate_accuracy'], ascending=False).head(1)\n",
    "    "
   ]
  },
  {
   "cell_type": "code",
   "execution_count": 46,
   "id": "ae139c4d-1567-4249-85c4-4ad48320f2a2",
   "metadata": {},
   "outputs": [],
   "source": [
    "# RandomForestClassifier?"
   ]
  },
  {
   "cell_type": "code",
   "execution_count": 142,
   "id": "9e5cea32-5dc6-4167-beda-fb1d945be5ef",
   "metadata": {},
   "outputs": [
    {
     "name": "stdout",
     "output_type": "stream",
     "text": [
      "              precision    recall  f1-score   support\n",
      "\n",
      "           0       0.95      1.00      0.97     48571\n",
      "           1       1.00      0.46      0.63      4750\n",
      "\n",
      "    accuracy                           0.95     53321\n",
      "   macro avg       0.97      0.73      0.80     53321\n",
      "weighted avg       0.95      0.95      0.94     53321\n",
      "\n"
     ]
    },
    {
     "data": {
      "text/html": [
       "<div>\n",
       "<style scoped>\n",
       "    .dataframe tbody tr th:only-of-type {\n",
       "        vertical-align: middle;\n",
       "    }\n",
       "\n",
       "    .dataframe tbody tr th {\n",
       "        vertical-align: top;\n",
       "    }\n",
       "\n",
       "    .dataframe thead th {\n",
       "        text-align: right;\n",
       "    }\n",
       "</style>\n",
       "<table border=\"1\" class=\"dataframe\">\n",
       "  <thead>\n",
       "    <tr style=\"text-align: right;\">\n",
       "      <th></th>\n",
       "      <th>min_samples_per_leaf</th>\n",
       "      <th>max_depth</th>\n",
       "      <th>train_accuracy</th>\n",
       "      <th>validate_accuracy</th>\n",
       "      <th>model_preds</th>\n",
       "      <th>difference</th>\n",
       "      <th>baseline_accuracy</th>\n",
       "    </tr>\n",
       "  </thead>\n",
       "  <tbody>\n",
       "    <tr>\n",
       "      <th>85</th>\n",
       "      <td>7</td>\n",
       "      <td>9</td>\n",
       "      <td>0.952101</td>\n",
       "      <td>0.952348</td>\n",
       "      <td>[0, 0, 0, 0, 0, 0, 0, 0, 0, 0, 0, 0, 0, 0, 0, ...</td>\n",
       "      <td>-0.000246</td>\n",
       "      <td>0.910917</td>\n",
       "    </tr>\n",
       "  </tbody>\n",
       "</table>\n",
       "</div>"
      ],
      "text/plain": [
       "    min_samples_per_leaf  max_depth  train_accuracy  validate_accuracy  \\\n",
       "85                     7          9        0.952101           0.952348   \n",
       "\n",
       "                                          model_preds  difference  \\\n",
       "85  [0, 0, 0, 0, 0, 0, 0, 0, 0, 0, 0, 0, 0, 0, 0, ...   -0.000246   \n",
       "\n",
       "    baseline_accuracy  \n",
       "85           0.910917  "
      ]
     },
     "execution_count": 142,
     "metadata": {},
     "output_type": "execute_result"
    }
   ],
   "source": [
    "get_random_forest()"
   ]
  },
  {
   "cell_type": "markdown",
   "id": "0d5a9a17-89f7-4d61-9eee-15798fe180cc",
   "metadata": {},
   "source": [
    "### Log Reg model"
   ]
  },
  {
   "cell_type": "code",
   "execution_count": 52,
   "id": "78dac3f1-1c9f-46ce-abe8-d077c86a89ee",
   "metadata": {},
   "outputs": [],
   "source": [
    "def get_logReg_model(data):\n",
    "    \"\"\"\n",
    "    build a logistical regression model and prints out the accuracy on training and validation along with the classification report. \n",
    "    Must type in train_val as your data arrg to get the train val result.\n",
    "    Type test if you want to test the model\n",
    "    if you want a csv of the model preds and preds proba then un comment all of the stuff at the bottom\n",
    "    \"\"\"\n",
    "    logit = LogisticRegression(random_state=706)\n",
    "    logit.fit(x_train_scaled, y_train)\n",
    "    y_pred = logit.predict(x_train_scaled)\n",
    "    y_proba = logit.predict_proba(x_train_scaled)\n",
    "    logit_val = logit.predict(x_val)\n",
    "    if data == 'train_val':\n",
    "        print('Accuracy of Logistic Regression classifier on training set: {:.2f}'\n",
    "         .format(logit.score(x_train_scaled, y_train)))\n",
    "        print('Accuracy of Logistic Regression classifier on validation set: {:.2f}'\n",
    "         .format(logit.score(x_val, y_val)))\n",
    "        print(\n",
    "        classification_report(y_train,\n",
    "                          y_pred))\n",
    "    else: \n",
    "        print('Accuracy of logistic regression classifier on test set: {:.2f}'\n",
    "         .format(logit.score(x_test, y_test)))"
   ]
  },
  {
   "cell_type": "code",
   "execution_count": null,
   "id": "7ab4d26d-c96d-40b6-837c-6b1a13f08bad",
   "metadata": {},
   "outputs": [],
   "source": []
  },
  {
   "cell_type": "code",
   "execution_count": 143,
   "id": "076bf10f-2e55-4798-ad7d-da3a1b7759fa",
   "metadata": {},
   "outputs": [
    {
     "name": "stdout",
     "output_type": "stream",
     "text": [
      "Accuracy of Logistic Regression classifier on training set: 0.94\n",
      "Accuracy of Logistic Regression classifier on validation set: 0.94\n",
      "              precision    recall  f1-score   support\n",
      "\n",
      "           0       0.95      0.99      0.97     48571\n",
      "           1       0.86      0.43      0.58      4750\n",
      "\n",
      "    accuracy                           0.94     53321\n",
      "   macro avg       0.90      0.71      0.77     53321\n",
      "weighted avg       0.94      0.94      0.93     53321\n",
      "\n"
     ]
    }
   ],
   "source": [
    "get_logReg_model('train_val')"
   ]
  },
  {
   "cell_type": "code",
   "execution_count": 146,
   "id": "6444d6ee-034d-4f49-844e-19dff65ed333",
   "metadata": {},
   "outputs": [
    {
     "name": "stderr",
     "output_type": "stream",
     "text": [
      "/opt/homebrew/anaconda3/lib/python3.9/site-packages/sklearn/neighbors/_classification.py:237: FutureWarning: Unlike other reduction functions (e.g. `skew`, `kurtosis`), the default behavior of `mode` typically preserves the axis it acts along. In SciPy 1.11.0, this behavior will change: the default value of `keepdims` will become False, the `axis` over which the statistic is taken will be eliminated, and the value None will no longer be accepted. Set `keepdims` to True or False to avoid this warning.\n",
      "  mode, _ = stats.mode(_y[neigh_ind, k], axis=1)\n",
      "/opt/homebrew/anaconda3/lib/python3.9/site-packages/sklearn/neighbors/_classification.py:237: FutureWarning: Unlike other reduction functions (e.g. `skew`, `kurtosis`), the default behavior of `mode` typically preserves the axis it acts along. In SciPy 1.11.0, this behavior will change: the default value of `keepdims` will become False, the `axis` over which the statistic is taken will be eliminated, and the value None will no longer be accepted. Set `keepdims` to True or False to avoid this warning.\n",
      "  mode, _ = stats.mode(_y[neigh_ind, k], axis=1)\n"
     ]
    },
    {
     "name": "stdout",
     "output_type": "stream",
     "text": [
      "Accuracy of Logistic Regression classifier on training set: 0.95\n",
      "Accuracy of Logistic Regression classifier on validation set: 0.95\n",
      "Accuracy: 93.86%\n",
      "              precision    recall  f1-score   support\n",
      "\n",
      "           0       0.95      1.00      0.97     20817\n",
      "           1       0.91      0.46      0.61      2036\n",
      "\n",
      "    accuracy                           0.95     22853\n",
      "   macro avg       0.93      0.73      0.79     22853\n",
      "weighted avg       0.95      0.95      0.94     22853\n",
      "\n"
     ]
    },
    {
     "name": "stderr",
     "output_type": "stream",
     "text": [
      "/opt/homebrew/anaconda3/lib/python3.9/site-packages/sklearn/neighbors/_classification.py:237: FutureWarning: Unlike other reduction functions (e.g. `skew`, `kurtosis`), the default behavior of `mode` typically preserves the axis it acts along. In SciPy 1.11.0, this behavior will change: the default value of `keepdims` will become False, the `axis` over which the statistic is taken will be eliminated, and the value None will no longer be accepted. Set `keepdims` to True or False to avoid this warning.\n",
      "  mode, _ = stats.mode(_y[neigh_ind, k], axis=1)\n"
     ]
    }
   ],
   "source": [
    "k = 10\n",
    "knn = KNeighborsClassifier(n_neighbors=k)\n",
    "\n",
    "knn.fit(x_train, y_train)\n",
    "\n",
    "y_pred = knn.predict(x_val)\n",
    "\n",
    "print('Accuracy of Logistic Regression classifier on training set: {:.2f}'\n",
    " .format(knn.score(x_train, y_train)))\n",
    "print('Accuracy of Logistic Regression classifier on validation set: {:.2f}'\n",
    " .format(knn.score(x_val, y_val)))\n",
    "print(\"Accuracy: {:.2f}%\".format(accuracy*100))\n",
    "print(classification_report(y_val,\n",
    "                          y_pred))"
   ]
  },
  {
   "cell_type": "code",
   "execution_count": 75,
   "id": "51920354-f210-4b22-8f0b-54b29621027b",
   "metadata": {},
   "outputs": [
    {
     "data": {
      "text/plain": [
       "53321"
      ]
     },
     "execution_count": 75,
     "metadata": {},
     "output_type": "execute_result"
    }
   ],
   "source": [
    "len(y_train) "
   ]
  },
  {
   "cell_type": "code",
   "execution_count": 74,
   "id": "e601b998-a5cf-45dd-899f-318dc7078199",
   "metadata": {},
   "outputs": [
    {
     "data": {
      "text/plain": [
       "22853"
      ]
     },
     "execution_count": 74,
     "metadata": {},
     "output_type": "execute_result"
    }
   ],
   "source": [
    "len(y_pred)"
   ]
  },
  {
   "cell_type": "markdown",
   "id": "bc8644ba-8191-4019-ac3a-9cbf930e5d8a",
   "metadata": {},
   "source": [
    "## Naive Bayes"
   ]
  },
  {
   "cell_type": "code",
   "execution_count": 148,
   "id": "c6796fb3-88a8-45b6-b05c-3f27dcaeb533",
   "metadata": {},
   "outputs": [
    {
     "name": "stdout",
     "output_type": "stream",
     "text": [
      "Accuracy of Logistic Regression classifier on training set: 0.91\n",
      "Accuracy of Logistic Regression classifier on validation set: 0.91\n",
      "Accuracy: 93.86%\n",
      "              precision    recall  f1-score   support\n",
      "\n",
      "           0       0.91      1.00      0.95     20817\n",
      "           1       0.00      0.00      0.00      2036\n",
      "\n",
      "    accuracy                           0.91     22853\n",
      "   macro avg       0.46      0.50      0.48     22853\n",
      "weighted avg       0.83      0.91      0.87     22853\n",
      "\n"
     ]
    },
    {
     "name": "stderr",
     "output_type": "stream",
     "text": [
      "/opt/homebrew/anaconda3/lib/python3.9/site-packages/sklearn/metrics/_classification.py:1327: UndefinedMetricWarning: Precision and F-score are ill-defined and being set to 0.0 in labels with no predicted samples. Use `zero_division` parameter to control this behavior.\n",
      "  _warn_prf(average, modifier, msg_start, len(result))\n",
      "/opt/homebrew/anaconda3/lib/python3.9/site-packages/sklearn/metrics/_classification.py:1327: UndefinedMetricWarning: Precision and F-score are ill-defined and being set to 0.0 in labels with no predicted samples. Use `zero_division` parameter to control this behavior.\n",
      "  _warn_prf(average, modifier, msg_start, len(result))\n",
      "/opt/homebrew/anaconda3/lib/python3.9/site-packages/sklearn/metrics/_classification.py:1327: UndefinedMetricWarning: Precision and F-score are ill-defined and being set to 0.0 in labels with no predicted samples. Use `zero_division` parameter to control this behavior.\n",
      "  _warn_prf(average, modifier, msg_start, len(result))\n"
     ]
    }
   ],
   "source": [
    "bnb = BernoulliNB()\n",
    "# Fit the model using the training data\n",
    "bnb.fit(x_train, y_train)\n",
    "\n",
    "# Make predictions on the testing data\n",
    "y_pred = bnb.predict(x_val)\n",
    "\n",
    "# Calculate the accuracy of the model\n",
    "print('Accuracy of Logistic Regression classifier on training set: {:.2f}'\n",
    " .format(bnb.score(x_train, y_train)))\n",
    "print('Accuracy of Logistic Regression classifier on validation set: {:.2f}'\n",
    " .format(bnb.score(x_val, y_val)))\n",
    "print(\"Accuracy: {:.2f}%\".format(accuracy*100))\n",
    "print(classification_report(y_val,\n",
    "                          y_pred))"
   ]
  },
  {
   "cell_type": "code",
   "execution_count": null,
   "id": "08bf1dc7-beca-4ae9-bce3-25a5cbd7d9aa",
   "metadata": {},
   "outputs": [],
   "source": []
  },
  {
   "cell_type": "code",
   "execution_count": null,
   "id": "944006fb-8b73-4c2b-a108-92c26ef26ea5",
   "metadata": {},
   "outputs": [],
   "source": []
  },
  {
   "cell_type": "code",
   "execution_count": null,
   "id": "fcc38150-1c4c-4540-b41b-6cea82ff3aa6",
   "metadata": {},
   "outputs": [],
   "source": []
  },
  {
   "cell_type": "code",
   "execution_count": null,
   "id": "70599dd1-3752-4d07-a9dc-c473bb87d870",
   "metadata": {},
   "outputs": [],
   "source": []
  }
 ],
 "metadata": {
  "kernelspec": {
   "display_name": "Python 3 (ipykernel)",
   "language": "python",
   "name": "python3"
  },
  "language_info": {
   "codemirror_mode": {
    "name": "ipython",
    "version": 3
   },
   "file_extension": ".py",
   "mimetype": "text/x-python",
   "name": "python",
   "nbconvert_exporter": "python",
   "pygments_lexer": "ipython3",
   "version": "3.9.13"
  }
 },
 "nbformat": 4,
 "nbformat_minor": 5
}
